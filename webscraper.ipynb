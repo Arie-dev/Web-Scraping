{
 "cells": [
  {
   "cell_type": "code",
   "execution_count": null,
   "metadata": {},
   "outputs": [],
   "source": [
    "from bs4 import BeautifulSoup\n",
    "import requests\n",
    "from minio import Minio\n",
    "from io import BytesIO\n",
    "from datetime import datetime\n",
    "\n",
    "def setup_minio_client():\n",
    "    minio_client = Minio('localhost:9000',\n",
    "                         access_key='ROOTUSER',\n",
    "                         secret_key='DATAINCUBATOR',\n",
    "                         secure=False)\n",
    "    if not minio_client.bucket_exists('bronze'):\n",
    "        minio_client.make_bucket('bronze')\n",
    "        print(\"Bucket 'bronze' created successfully\")\n",
    "    return minio_client\n",
    "minio_client = setup_minio_client()"
   ]
  },
  {
   "cell_type": "code",
   "execution_count": null,
   "metadata": {},
   "outputs": [],
   "source": [
    "def scrape_books_data():\n",
    "    url = \"https://books.toscrape.com/catalogue/page-1.html\"\n",
    "    response = requests.get(url)\n",
    "\n",
    "    if response.status_code == 200:\n",
    "        html_content = response.text\n",
    "        soup = BeautifulSoup(html_content, 'html.parser')\n",
    "        book_rows = soup.find_all('article', class_='product_pod')  \n",
    "        \n",
    "        books_data = []\n",
    "        for book in book_rows:\n",
    "            title = book.find('h3').find('a')['title']\n",
    "            price = book.find('p', class_='price_color').text.strip()\n",
    "            availability = book.find('p', class_='instock availability').text.strip()\n",
    "            rating = book.find('p', class_='star-rating')['class'][1]\n",
    "\n",
    "            books_data.append({\n",
    "                'title': title,\n",
    "                'price': price,\n",
    "                'availability': availability,\n",
    "                'rating': rating\n",
    "            })\n",
    "\n",
    "        return books_data\n",
    "    else:\n",
    "        print(f\"Failed to fetch page, status code: {response.status_code}\")\n",
    "        return None\n",
    "\n",
    "book_data = scrape_books_data()\n",
    "for book in book_data:\n",
    "    print(book)\n"
   ]
  },
  {
   "cell_type": "code",
   "execution_count": null,
   "metadata": {},
   "outputs": [],
   "source": [
    "import csv\n",
    "from io import StringIO\n",
    "from datetime import datetime\n",
    "\n",
    "def save_books_data_to_minio(books_data, minio_client):\n",
    "    current_datetime = datetime.now().strftime('%Y%m%d')\n",
    "    object_name = f'books_data_{current_datetime}.csv'\n",
    "\n",
    "    csv_data = StringIO()\n",
    "    fieldnames = [\"title\", \"price\", \"availability\", \"rating\"]\n",
    "    writer = csv.DictWriter(csv_data, fieldnames=fieldnames)\n",
    "    writer.writeheader()\n",
    "    \n",
    "    for book in books_data:\n",
    "        writer.writerow(book)\n",
    "\n",
    "    csv_data_bytes = BytesIO(csv_data.getvalue().encode('utf-8'))\n",
    "    \n",
    "    try:\n",
    "        minio_client.put_object(\n",
    "            'bronze', object_name, csv_data_bytes, len(csv_data_bytes.getvalue())\n",
    "        )\n",
    "        print(f\"Book data saved successfully as {object_name}\")\n",
    "    except Exception as e:\n",
    "        print(\"An error occurred while uploading to Minio:\", e)\n",
    "\n",
    "if book_data:\n",
    "    save_books_data_to_minio(book_data, minio_client)\n"
   ]
  }
 ],
 "metadata": {
  "kernelspec": {
   "display_name": "venv",
   "language": "python",
   "name": "python3"
  },
  "language_info": {
   "codemirror_mode": {
    "name": "ipython",
    "version": 3
   },
   "file_extension": ".py",
   "mimetype": "text/x-python",
   "name": "python",
   "nbconvert_exporter": "python",
   "pygments_lexer": "ipython3",
   "version": "3.11.2"
  }
 },
 "nbformat": 4,
 "nbformat_minor": 2
}
