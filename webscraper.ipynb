{
 "cells": [
  {
   "cell_type": "code",
   "execution_count": 4,
   "metadata": {},
   "outputs": [
    {
     "name": "stdout",
     "output_type": "stream",
     "text": [
      "Bucket 'bronze' created successfully\n"
     ]
    }
   ],
   "source": [
    "from bs4 import BeautifulSoup\n",
    "import requests\n",
    "from minio import Minio\n",
    "from io import BytesIO\n",
    "from datetime import datetime\n",
    "\n",
    "def setup_minio_client():\n",
    "    minio_client = Minio('host.docker.internal:9000',\n",
    "                         access_key='ROOTUSER',\n",
    "                         secret_key='DATAINCUBATOR',\n",
    "                         secure=False)\n",
    "    if not minio_client.bucket_exists('bronze'):\n",
    "        minio_client.make_bucket('bronze')\n",
    "        print(\"Bucket 'bronze' created successfully\")\n",
    "    return minio_client\n",
    "minio_client = setup_minio_client()"
   ]
  },
  {
   "cell_type": "code",
   "execution_count": null,
   "metadata": {},
   "outputs": [],
   "source": [
    "def scrape_flight_data():\n",
    "    url = \"https://www.flightradar24.com/data/airports/jfk\"\n",
    "    response = requests.get(url)\n",
    "\n",
    "    if response.status_code == 200:\n",
    "        html_content = response.text\n",
    "        soup = BeautifulSoup(html_content, 'html.parser')\n",
    "        flight_rows = soup.find_all('tr', class_='data-row')\n",
    "        \n",
    "        flight_data = []\n",
    "        for row in flight_rows:\n",
    "            flight_number = row.find('td', class_='flight-number').text.strip()\n",
    "            origin = row.find('td', class_='origin').text.strip()\n",
    "            destination = row.find('td', class_='destination').text.strip()\n",
    "            departure_time = row.find('td', class_='departure-time').text.strip()\n",
    "            arrival_time = row.find('td', class_='arrival-time').text.strip()\n",
    "            flight_data.append({\n",
    "                'flight_number': flight_number,\n",
    "                'origin': origin,\n",
    "                'destination': destination,\n",
    "                'departure_time': departure_time,\n",
    "                'arrival_time': arrival_time\n",
    "            })\n",
    "        \n",
    "        return flight_data\n",
    "    else:\n",
    "        print(f\"Failed to fetch page, status code: {response.status_code}\")\n",
    "        return None\n"
   ]
  },
  {
   "cell_type": "code",
   "execution_count": null,
   "metadata": {},
   "outputs": [],
   "source": [
    "import csv\n",
    "\n",
    "def save_flight_data_to_minio(flight_data, minio_client):\n",
    "    current_datetime = datetime.now().strftime('%Y%m%d')\n",
    "    object_name = f'flights_data_{current_datetime}.csv'\n",
    "\n",
    "    csv_data = BytesIO()\n",
    "    writer = csv.DictWriter(csv_data, fieldnames=[\"flight_number\", \"origin\", \"destination\", \"departure_time\", \"arrival_time\"])\n",
    "    writer.writeheader()\n",
    "    for flight in flight_data:\n",
    "        writer.writerow(flight)\n",
    "    \n",
    "    csv_data.seek(0)\n",
    "    \n",
    "    try:\n",
    "        minio_client.put_object(\n",
    "            'bronze', object_name, csv_data, len(csv_data.getvalue()))\n",
    "        print(f\"Flight data saved successfully as {object_name}\")\n",
    "    except Exception as e:\n",
    "        print(\"An error occurred while uploading to Minio:\", e)\n"
   ]
  },
  {
   "cell_type": "code",
   "execution_count": null,
   "metadata": {},
   "outputs": [],
   "source": [
    "def main():\n",
    "    flight_data = scrape_flight_data()\n",
    "    \n",
    "    if flight_data:\n",
    "        save_flight_data_to_minio(flight_data, minio_client)\n",
    "\n",
    "if __name__ == \"__main__\":\n",
    "    main()\n"
   ]
  }
 ],
 "metadata": {
  "kernelspec": {
   "display_name": "venv",
   "language": "python",
   "name": "python3"
  },
  "language_info": {
   "codemirror_mode": {
    "name": "ipython",
    "version": 3
   },
   "file_extension": ".py",
   "mimetype": "text/x-python",
   "name": "python",
   "nbconvert_exporter": "python",
   "pygments_lexer": "ipython3",
   "version": "3.10.7"
  }
 },
 "nbformat": 4,
 "nbformat_minor": 2
}
